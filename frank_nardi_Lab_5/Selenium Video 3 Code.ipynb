{
 "cells": [
  {
   "cell_type": "code",
   "execution_count": 12,
   "id": "8a202a3c",
   "metadata": {},
   "outputs": [],
   "source": [
    "from selenium import webdriver\n",
    "from selenium.webdriver.chrome.service import Service\n",
    "from selenium.webdriver.common.keys import Keys\n",
    "from selenium.webdriver.common.by import By\n",
    "from selenium.webdriver.support.ui import WebDriverWait\n",
    "from selenium.webdriver.support import expected_conditions as EC\n",
    "import time\n",
    "\n",
    "# This is meant to serve as a reference so the code knows which browser\n",
    "# service to use with Selenium\n",
    "PATH = Service(\"C:\\Program Files (x86)\\chromedriver.exe\")\n",
    "driver = webdriver.Chrome(service= PATH)\n",
    "\n",
    "#The driver (in this case Chrome) opens the url in the parantheses below\n",
    "driver.get(\"https://techwithtim.net\")\n",
    "\n",
    "# Grabs the link that displays \"Python Programming\" from the page and\n",
    "# essentially left clicks it\n",
    "link = driver.find_element(By.LINK_TEXT, 'Python Programming')\n",
    "link.click()\n",
    "\n",
    "try:\n",
    "#     The element is assigned a value once and/or if the specified item\n",
    "# appears on the page\n",
    "#     Here it is searching for a link with the displayed text of\n",
    "# \"Beginner Python Tutorials\"\n",
    "    element = WebDriverWait(driver, 10).until(\n",
    "        EC.presence_of_element_located((By.LINK_TEXT, \"Beginner Python Tutorials\"))\n",
    "    )\n",
    "#     The selected link assigned to element is \"clicked\"\n",
    "    element.click()\n",
    "#     The same occurs here, but the thing the code is waiting for is\n",
    "# searched by its ID in html\n",
    "    element = WebDriverWait(driver, 10).until(\n",
    "        EC.presence_of_element_located((By.ID, \"sow-button-19310003\"))\n",
    "    )\n",
    "#     The selected link is again assigned to element and \"clicked\"\n",
    "    element.click()\n",
    "    \n",
    "#     These three calls perform the same function as the back arrow \n",
    "# in a browser\n",
    "    driver.back()\n",
    "    driver.back()\n",
    "    driver.back()\n",
    "    \n",
    "#     This except clause is here to close the window being controlled\n",
    "# by Selenium if after the specified time in WebDriverWait the thing being searched for is not found\n",
    "except:\n",
    "    driver.quit()\n"
   ]
  }
 ],
 "metadata": {
  "kernelspec": {
   "display_name": "Python 3 (ipykernel)",
   "language": "python",
   "name": "python3"
  },
  "language_info": {
   "codemirror_mode": {
    "name": "ipython",
    "version": 3
   },
   "file_extension": ".py",
   "mimetype": "text/x-python",
   "name": "python",
   "nbconvert_exporter": "python",
   "pygments_lexer": "ipython3",
   "version": "3.9.13"
  }
 },
 "nbformat": 4,
 "nbformat_minor": 5
}

{
 "cells": [
  {
   "cell_type": "code",
   "execution_count": 1,
   "id": "024a7dac",
   "metadata": {},
   "outputs": [
    {
     "name": "stdout",
     "output_type": "stream",
     "text": [
      "Requirement already satisfied: html5lib in c:\\users\\frank\\anaconda3\\lib\\site-packages (1.1)\n",
      "Requirement already satisfied: six>=1.9 in c:\\users\\frank\\anaconda3\\lib\\site-packages (from html5lib) (1.16.0)\n",
      "Requirement already satisfied: webencodings in c:\\users\\frank\\anaconda3\\lib\\site-packages (from html5lib) (0.5.1)\n"
     ]
    }
   ],
   "source": [
    "!pip install html5lib"
   ]
  },
  {
   "cell_type": "code",
   "execution_count": null,
   "id": "f9cfda4b",
   "metadata": {},
   "outputs": [
    {
     "name": "stdout",
     "output_type": "stream",
     "text": [
      "<div class=\"item-description\">\n",
      " <span class=\"item-description-title\">\n",
      "  <a href=\"https://www.loc.gov/item/2004670356/\" rel=\"http://www.loc.gov/item/2004670356/\">\n",
      "   Cats\n",
      "  </a>\n",
      " </span>\n",
      " <span class=\"item-description-abstract\">\n",
      "  1 print : tinted lithograph ; sheet 48.5 x 57.3 cm. | Print shows the faces and front paws of two sleeping cats.\n",
      " </span>\n",
      " <ul>\n",
      "  <li class=\"contributor\">\n",
      "   <strong class=\"search-results-label\">\n",
      "    Contributor:\n",
      "   </strong>\n",
      "   <span>\n",
      "    Hunter, Thomas - Hunter, Thomas, Approximately 1828-Approximately 1894\n",
      "   </span>\n",
      "  </li>\n",
      "  <li class=\"date\">\n",
      "   <strong class=\"search-results-label\">\n",
      "    Date:\n",
      "   </strong>\n",
      "   <span>\n",
      "    : 1874\n",
      "   </span>\n",
      "  </li>\n",
      " </ul>\n",
      "</div>\n",
      "\n"
     ]
    }
   ],
   "source": [
    "from bs4 import BeautifulSoup\n",
    "import requests\n",
    "import html5lib\n",
    "import csv\n",
    "\n",
    "# source1 = requests.get(\"https://www.imdb.com/list/ls055592025/\").text\n",
    "# soup1 = BeautifulSoup(source1, \"lxml\")\n",
    "\n",
    "# # print(soup1.prettify())\n",
    "\n",
    "# csv_file1 = open(\"imdb_movies_scrape.csv\", \"w\", newline=\"\", encoding=\"utf-8\")\n",
    "# csv_writer1 = csv.writer(csv_file1)\n",
    "# csv_writer1.writerow([\"Title\", \"Release\", \"Rating\"])\n",
    "\n",
    "# for element in soup1.find_all(\"div\", class_=\"lister-item-content\"):\n",
    "#     title1 = element.h3.a.text.strip()\n",
    "#     release1 = element.find(\"span\", class_=\"lister-item-year\").text.strip(\"()\")\n",
    "#     rating1 = element.find(\"span\", class_=\"ipl-rating-star__rating\").text\n",
    "    \n",
    "#     csv_writer1.writerow([title1, release1, rating1])\n",
    "    \n",
    "# csv_file1.close()\n",
    "\n",
    "\n",
    "\n",
    "csv_file2 = open(\"library_of_congress_cats_scrape.csv\", \"w\", newline=\"\", encoding=\"utf-8\")\n",
    "csv_writer2 = csv.writer(csv_file2)\n",
    "csv_writer2.writerow([\"Title\", \"Description\", \"Link\", \"Contributor\", \"Date\"])\n",
    "\n",
    "page_num = 1\n",
    "\n",
    "source2 = requests.get(f\"https://www.loc.gov/search/?q=cats&sp={page_num}\").text\n",
    "soup2 = BeautifulSoup(source2, \"lxml\")\n",
    "ref = soup2.find(\"div\", class_=\"item-description\")\n",
    "print(ref.prettify())\n",
    "\n",
    "while page_num <=5:\n",
    "    \n",
    "    source2 = requests.get(f\"https://www.loc.gov/search/?q=cats&sp={page_num}\").text\n",
    "    soup2 = BeautifulSoup(source2, \"lxml\")\n",
    "    \n",
    "    for element in soup2.find_all(\"div\", class_=\"item-description\"):\n",
    "        title2 = element.span.a.text.strip()\n",
    "        \n",
    "        if element.find(\"span\", class_=\"item-description-abstract\"):\n",
    "            description2 = element.find(\"span\", class_=\"item-description-abstract\").text.strip()\n",
    "            \n",
    "        link2 = element.a[\"href\"]\n",
    "        \n",
    "        if element.find(\"li\", class_=\"contributor\"):\n",
    "            contributor2 = element.find(\"li\", class_=\"contributor\").span.text.strip()\n",
    "        \n",
    "        if element.find(\"li\", class_=\"date\"):\n",
    "            date2 = element.find(\"li\", class_=\"date\").span.text.strip(\": \")\n",
    "            \n",
    "        csv_writer2.writerow([title2, description2, link2, contributor2, date2])\n",
    "        \n",
    "    page_num += 1\n",
    "    \n",
    "csv_file2.close()\n"
   ]
  }
 ],
 "metadata": {
  "kernelspec": {
   "display_name": "Python 3 (ipykernel)",
   "language": "python",
   "name": "python3"
  },
  "language_info": {
   "codemirror_mode": {
    "name": "ipython",
    "version": 3
   },
   "file_extension": ".py",
   "mimetype": "text/x-python",
   "name": "python",
   "nbconvert_exporter": "python",
   "pygments_lexer": "ipython3",
   "version": "3.9.13"
  }
 },
 "nbformat": 4,
 "nbformat_minor": 5
}
